{
 "cells": [
  {
   "cell_type": "code",
   "execution_count": 1,
   "metadata": {},
   "outputs": [
    {
     "name": "stdout",
     "output_type": "stream",
     "text": [
      "Welcome to JupyROOT 6.20/06\n"
     ]
    }
   ],
   "source": [
    "import ROOT\n",
    "import math\n",
    "from ROOT import TH1F, TF1, TColor\n",
    "from scipy.stats import norm\n",
    "\n",
    "rndmGenerator = ROOT.TRandom3()\n",
    "\n",
    "def bhathat(mu, s, tau, n, m):\n",
    "    return (n+m-(1+tau)*mu*s)/(2+2*tau)+(((n+m-(1+tau)*mu*s)**2+(1+tau)*m*mu*s)/(4*(1+tau)**2))**0.5\n",
    "def factorial(n):\n",
    "    n_factorial = 1\n",
    "    if n < 0:\n",
    "        print(\"error\")\n",
    "    elif n == 0:\n",
    "        n_factorial = 1\n",
    "    else: \n",
    "        for i in range(1,n + 1):\n",
    "            n_factorial = n_factorial*i\n",
    "    return n_factorial\n",
    "\n",
    "def likelihood(mu, s, b, tau, n, m):\n",
    "    return (mu*s+b)**n*math.exp(-(mu*s+b))*(tau*b)**m*math.exp(-tau*b)/(factorial(n)*factorial(m))\n",
    "\n",
    "def qmu(mu, s, b, tau):\n",
    "    n=rndmGenerator.Poisson(mu*s+b)\n",
    "    m=rndmGenerator.Poisson(tau*b)\n",
    "    mu_hat = (n-m/tau)/s\n",
    "    b_hat = m/tau\n",
    "    b_hat_hat = bhathat(mu, s, tau, n, m)\n",
    "    if mu_hat < mu:\n",
    "        likelihood_mu_bhat = likelihood(mu, s, b_hat_hat, tau, n, m)\n",
    "        likelihood_muhat_bhathat = likelihood(mu_hat, s, b_hat, tau, n, m)\n",
    "        likelihoodRatio_mu = likelihood_mu_bhat/likelihood_muhat_bhathat\n",
    "        q_mu = -2*math.log(likelihoodRatio_mu)\n",
    "    else:\n",
    "        q_mu = 0\n",
    "    return q_mu\n",
    "\n",
    "def q0(mu, s, b, tau, n, m):\n",
    "#     n=rndmGenerator.Poisson(mu*s+b)\n",
    "#     m=rndmGenerator.Poisson(tau*b)\n",
    "    mu_hat = (n-m/tau)/s\n",
    "    b_hat = m/tau\n",
    "    b_hat_hat = bhathat(mu, s, tau, n, m)\n",
    "    if mu_hat >= 0:\n",
    "        likelihood_mu_bhat = likelihood(mu, s, b_hat_hat, tau, n, m)\n",
    "        likelihood_muhat_bhathat = likelihood(mu_hat, s, b_hat, tau, n, m)\n",
    "        likelihoodRatio_mu = likelihood_mu_bhat/likelihood_muhat_bhathat\n",
    "        q_mu = -2*math.log(likelihoodRatio_mu)\n",
    "    else:\n",
    "        q_mu = 0\n",
    "    return q_mu\n",
    "\n",
    "# print (\"2:\", factorial(4) )\n",
    "# print (\"e : \", log_likelihood(0,2,2,1,2,2) )"
   ]
  },
  {
   "cell_type": "code",
   "execution_count": 2,
   "metadata": {},
   "outputs": [],
   "source": [
    "%jsroot on"
   ]
  },
  {
   "cell_type": "code",
   "execution_count": 3,
   "metadata": {},
   "outputs": [
    {
     "name": "stdout",
     "output_type": "stream",
     "text": [
      "3.39798073590795\n"
     ]
    }
   ],
   "source": [
    "def func_fq0(q0):\n",
    "    if q0[0] > 1.e-10:\n",
    "        fq = 0.5*(2*math.pi)**(-0.5)*(q0[0])**(-0.5)*math.exp(-0.5*q0[0])\n",
    "    else:\n",
    "        fq = 1\n",
    "    return fq\n",
    "\n",
    "fq0 = TF1(\"fq0\",func_fq0,0,40)\n",
    "\n",
    "sigma_A = (1.*1. / q0(0,10,10,1,20,10))**0.5\n",
    "# mu_ = 1\n",
    "print(q0(0,10,10,1,20,10))\n",
    "def func_fq0_mu(q_0):\n",
    "    sigma_A = (0.29429242768582003)**0.5\n",
    "    if q_0[0] > 0.1:\n",
    "        fq = 0.5*(2*math.pi)**(-0.5)*(q_0[0])**(-0.5)*math.exp(-0.5*(q_0[0]**0.5 - 1/sigma_A)**2)\n",
    "    else:\n",
    "        q = 0.1\n",
    "        fq = 1-norm.cdf(1/sigma_A) + 0.5*(2*math.pi)**(-0.5)*(q)**(-0.5)*math.exp(-0.5*(q**0.5 - 1/sigma_A)**2)\n",
    "#         fq = 1-norm.cdf(1/sigma_A)\n",
    "    return fq\n",
    "fq0_mu = TF1(\"fq0_mu\",func_fq0_mu,0,40)\n",
    "\n",
    "# c_f = ROOT.TCanvas()\n",
    "# c_f.SetLogy()\n",
    "# fq0.Draw()\n",
    "# fq0_mu.Draw()\n",
    "# c_f.Draw()"
   ]
  },
  {
   "cell_type": "code",
   "execution_count": 4,
   "metadata": {},
   "outputs": [],
   "source": [
    "h_mu0 = ROOT.TH1F(\"h_mu0\",\"f(q0|0);q_{0};f(q_{0}|0)\",20, 0, 40)\n",
    "h_mu1 = ROOT.TH1F(\"h_mu1\",\"f(q0|1);q_{0};f(q_{0}|1)\",20, 0, 40)\n",
    "\n",
    "mu=0\n",
    "s=10\n",
    "b=10\n",
    "tau=1\n",
    "for i in range(10000000):\n",
    "    h_mu0.Fill(q0(0, s, b, tau, rndmGenerator.Poisson(0*s+b), rndmGenerator.Poisson(tau*b)))\n",
    "    h_mu1.Fill(q0(0, s, b, tau, rndmGenerator.Poisson(1*s+b), rndmGenerator.Poisson(tau*b)))"
   ]
  },
  {
   "cell_type": "code",
   "execution_count": 6,
   "metadata": {
    "scrolled": false
   },
   "outputs": [
    {
     "name": "stdout",
     "output_type": "stream",
     "text": [
      "1.000000002878096\n"
     ]
    },
    {
     "data": {
      "text/html": [
       "\n",
       "<div id=\"root_plot_1600305018748\"\n",
       "     style=\"width: 696px; height: 472px\">\n",
       "</div>\n",
       "<script>\n",
       "if (typeof require !== 'undefined') {\n",
       "\n",
       "    // All requirements met (we are in jupyter notebooks or we loaded requirejs before).\n",
       "    display_root_plot_1600305018748();\n",
       "\n",
       "} else {\n",
       "\n",
       "    // We are in jupyterlab, we need to insert requirejs and configure it.\n",
       "    // Jupyterlab might be installed in a different base_url so we need to know it.\n",
       "    try {\n",
       "        var base_url = JSON.parse(document.getElementById('jupyter-config-data').innerHTML).baseUrl;\n",
       "    } catch(_) {\n",
       "        var base_url = '/';\n",
       "    }\n",
       "\n",
       "    // Try loading a local version of requirejs and fallback to cdn if not possible.\n",
       "    requirejs_load(base_url + 'static/components/requirejs/require.js', requirejs_success(base_url), function(){\n",
       "        requirejs_load('https://cdnjs.cloudflare.com/ajax/libs/require.js/2.2.0/require.min.js', requirejs_success(base_url), function(){\n",
       "            document.getElementById(\"root_plot_1600305018748\").innerHTML = \"Failed to load requireJs\";\n",
       "        });\n",
       "    });\n",
       "}\n",
       "\n",
       "function requirejs_load(src, on_load, on_error) {\n",
       "    var script = document.createElement('script');\n",
       "    script.src = src;\n",
       "    script.onload = on_load;\n",
       "    script.onerror = on_error;\n",
       "    document.head.appendChild(script);\n",
       "}\n",
       "\n",
       "function requirejs_success(base_url) {\n",
       "    return function() {\n",
       "        require.config({\n",
       "            baseUrl: base_url + 'static/'\n",
       "        });\n",
       "        display_root_plot_1600305018748();\n",
       "    }\n",
       "}\n",
       "\n",
       "function display_root_plot_1600305018748() {\n",
       "    require(['scripts/JSRootCore'],\n",
       "        function(Core) {\n",
       "            var obj = Core.JSONR_unref({\"_typename\":\"TCanvas\",\"fUniqueID\":0,\"fBits\":3342344,\"fLineColor\":1,\"fLineStyle\":1,\"fLineWidth\":1,\"fFillColor\":0,\"fFillStyle\":1001,\"fLeftMargin\":0.1,\"fRightMargin\":0.1,\"fBottomMargin\":0.1,\"fTopMargin\":0.1,\"fXfile\":2,\"fYfile\":2,\"fAfile\":1,\"fXstat\":0.99,\"fYstat\":0.99,\"fAstat\":2,\"fFrameFillColor\":0,\"fFrameLineColor\":1,\"fFrameFillStyle\":1001,\"fFrameLineStyle\":1,\"fFrameLineWidth\":1,\"fFrameBorderSize\":1,\"fFrameBorderMode\":0,\"fX1\":-5.00000037252905,\"fY1\":-9.12500008381904,\"fX2\":45.0000003725291,\"fY2\":2.12500008381904,\"fXtoAbsPixelk\":69.6000541484835,\"fXtoPixelk\":69.6000541484835,\"fXtoPixel\":13.9199997925758,\"fYtoAbsPixelk\":89.1556077437083,\"fYtoPixelk\":89.1556077437083,\"fYtoPixel\":-41.955554930369,\"fUtoAbsPixelk\":5e-5,\"fUtoPixelk\":5e-5,\"fUtoPixel\":696,\"fVtoAbsPixelk\":472.00005,\"fVtoPixelk\":472,\"fVtoPixel\":-472,\"fAbsPixeltoXk\":-5.00000037252905,\"fPixeltoXk\":-5.00000037252905,\"fPixeltoX\":0.0718390815302559,\"fAbsPixeltoYk\":2.12500008381904,\"fPixeltoYk\":-9.12500008381904,\"fPixeltoY\":-0.0238347461178773,\"fXlowNDC\":0,\"fYlowNDC\":0,\"fXUpNDC\":1,\"fYUpNDC\":1,\"fWNDC\":1,\"fHNDC\":1,\"fAbsXlowNDC\":0,\"fAbsYlowNDC\":0,\"fAbsWNDC\":1,\"fAbsHNDC\":1,\"fUxmin\":0,\"fUymin\":-8,\"fUxmax\":40,\"fUymax\":1,\"fTheta\":30,\"fPhi\":30,\"fAspectRatio\":0,\"fNumber\":0,\"fTickx\":0,\"fTicky\":0,\"fLogx\":0,\"fLogy\":1,\"fLogz\":0,\"fPadPaint\":0,\"fCrosshair\":0,\"fCrosshairPos\":0,\"fBorderSize\":2,\"fBorderMode\":0,\"fModified\":false,\"fGridx\":false,\"fGridy\":false,\"fAbsCoord\":false,\"fEditable\":true,\"fFixedAspectRatio\":false,\"fPrimitives\":{\"_typename\":\"TList\",\"name\":\"TList\",\"arr\":[{\"_typename\":\"TFrame\",\"fUniqueID\":0,\"fBits\":8,\"fLineColor\":1,\"fLineStyle\":1,\"fLineWidth\":1,\"fFillColor\":0,\"fFillStyle\":1001,\"fX1\":0,\"fY1\":-8,\"fX2\":40,\"fY2\":1,\"fBorderSize\":1,\"fBorderMode\":0},{\"_typename\":\"TH1F\",\"fUniqueID\":0,\"fBits\":8,\"fName\":\"h_mu0\",\"fTitle\":\"f(q0|0)\",\"fLineColor\":2,\"fLineStyle\":1,\"fLineWidth\":2,\"fFillColor\":0,\"fFillStyle\":1001,\"fMarkerColor\":1,\"fMarkerStyle\":1,\"fMarkerSize\":1,\"fNcells\":22,\"fXaxis\":{\"_typename\":\"TAxis\",\"fUniqueID\":0,\"fBits\":0,\"fName\":\"xaxis\",\"fTitle\":\"q_{0}\",\"fNdivisions\":510,\"fAxisColor\":1,\"fLabelColor\":1,\"fLabelFont\":42,\"fLabelOffset\":0.005,\"fLabelSize\":0.035,\"fTickLength\":0.03,\"fTitleOffset\":1,\"fTitleSize\":0.035,\"fTitleColor\":1,\"fTitleFont\":42,\"fNbins\":20,\"fXmin\":0,\"fXmax\":40,\"fXbins\":[],\"fFirst\":0,\"fLast\":0,\"fBits2\":0,\"fTimeDisplay\":false,\"fTimeFormat\":\"\",\"fLabels\":null,\"fModLabs\":null},\"fYaxis\":{\"_typename\":\"TAxis\",\"fUniqueID\":0,\"fBits\":0,\"fName\":\"yaxis\",\"fTitle\":\"f(q_{0}|0)\",\"fNdivisions\":510,\"fAxisColor\":1,\"fLabelColor\":1,\"fLabelFont\":42,\"fLabelOffset\":0.005,\"fLabelSize\":0.035,\"fTickLength\":0.03,\"fTitleOffset\":0,\"fTitleSize\":0.035,\"fTitleColor\":1,\"fTitleFont\":42,\"fNbins\":1,\"fXmin\":0,\"fXmax\":1,\"fXbins\":[],\"fFirst\":0,\"fLast\":0,\"fBits2\":0,\"fTimeDisplay\":false,\"fTimeFormat\":\"\",\"fLabels\":null,\"fModLabs\":null},\"fZaxis\":{\"_typename\":\"TAxis\",\"fUniqueID\":0,\"fBits\":0,\"fName\":\"zaxis\",\"fTitle\":\"\",\"fNdivisions\":510,\"fAxisColor\":1,\"fLabelColor\":1,\"fLabelFont\":42,\"fLabelOffset\":0.005,\"fLabelSize\":0.035,\"fTickLength\":0.03,\"fTitleOffset\":1,\"fTitleSize\":0.035,\"fTitleColor\":1,\"fTitleFont\":42,\"fNbins\":1,\"fXmin\":0,\"fXmax\":1,\"fXbins\":[],\"fFirst\":0,\"fLast\":0,\"fBits2\":0,\"fTimeDisplay\":false,\"fTimeFormat\":\"\",\"fLabels\":null,\"fModLabs\":null},\"fBarOffset\":0,\"fBarWidth\":1000,\"fEntries\":10000000,\"fTsumw\":0.499999994337223,\"fTsumw2\":2.49999994337223e-8,\"fTsumwx\":0.257301464236871,\"fTsumwx2\":0.797596454046764,\"fMaximum\":10,\"fMinimum\":1e-8,\"fNormFactor\":0,\"fContour\":[],\"fSumw2\":[0,2.29568219800025e-8,1.47181246666182e-9,3.76552491470669e-10,1.35564996929303e-10,3.69199991637211e-11,1.40524996816953e-11,5.18749988249738e-12,2.02749995407488e-12,5.12499988391307e-13,3.54999991958857e-13,9.99999977348892e-14,6.4999998527678e-14,1.49999996602334e-14,7.49999983011669e-15,4.99999988674446e-15,0,0,0,0,0,0],\"fOption\":\"\",\"fFunctions\":{\"_typename\":\"TList\",\"name\":\"TList\",\"arr\":[{\"_typename\":\"TPaveStats\",\"fUniqueID\":0,\"fBits\":9,\"fLineColor\":1,\"fLineStyle\":1,\"fLineWidth\":1,\"fFillColor\":0,\"fFillStyle\":1001,\"fX1\":34.000001013279,\"fY1\":-0.406249886844304,\"fX2\":44.0000013113022,\"fY2\":1.39375009974465,\"fX1NDC\":0.780000016093254,\"fY1NDC\":0.775000005960464,\"fX2NDC\":0.980000019073486,\"fY2NDC\":0.935000002384186,\"fBorderSize\":1,\"fInit\":1,\"fShadowColor\":1,\"fCornerRadius\":0,\"fOption\":\"brNDC\",\"fName\":\"stats\",\"fTextAngle\":0,\"fTextSize\":0,\"fTextAlign\":12,\"fTextColor\":1,\"fTextFont\":42,\"fLabel\":\"\",\"fLongest\":24,\"fMargin\":0.05,\"fLines\":{\"_typename\":\"TList\",\"name\":\"TList\",\"arr\":[{\"_typename\":\"TLatex\",\"fUniqueID\":0,\"fBits\":0,\"fName\":\"\",\"fTitle\":\"h_mu0\",\"fTextAngle\":0,\"fTextSize\":0.0368,\"fTextAlign\":0,\"fTextColor\":0,\"fTextFont\":0,\"fX\":0,\"fY\":0,\"fLineColor\":1,\"fLineStyle\":1,\"fLineWidth\":2,\"fLimitFactorSize\":3,\"fOriginSize\":0.0368000008165836},{\"_typename\":\"TLatex\",\"fUniqueID\":0,\"fBits\":0,\"fName\":\"\",\"fTitle\":\"Entries =          1e+07\",\"fTextAngle\":0,\"fTextSize\":0,\"fTextAlign\":0,\"fTextColor\":0,\"fTextFont\":0,\"fX\":0,\"fY\":0,\"fLineColor\":1,\"fLineStyle\":1,\"fLineWidth\":2,\"fLimitFactorSize\":3,\"fOriginSize\":0.04},{\"_typename\":\"TLatex\",\"fUniqueID\":0,\"fBits\":0,\"fName\":\"\",\"fTitle\":\"Mean  = 0.5146\",\"fTextAngle\":0,\"fTextSize\":0,\"fTextAlign\":0,\"fTextColor\":0,\"fTextFont\":0,\"fX\":0,\"fY\":0,\"fLineColor\":1,\"fLineStyle\":1,\"fLineWidth\":2,\"fLimitFactorSize\":3,\"fOriginSize\":0.04},{\"_typename\":\"TLatex\",\"fUniqueID\":0,\"fBits\":0,\"fName\":\"\",\"fTitle\":\"Std Dev   =  1.153\",\"fTextAngle\":0,\"fTextSize\":0,\"fTextAlign\":0,\"fTextColor\":0,\"fTextFont\":0,\"fX\":0,\"fY\":0,\"fLineColor\":1,\"fLineStyle\":1,\"fLineWidth\":2,\"fLimitFactorSize\":3,\"fOriginSize\":0.04}],\"opt\":[\"\",\"\",\"\",\"\"]},\"fOptFit\":0,\"fOptStat\":1111,\"fFitFormat\":\"5.4g\",\"fStatFormat\":\"6.4g\",\"fParent\":{\"$ref\":3}}],\"opt\":[\"brNDC\"]},\"fBufferSize\":0,\"fBuffer\":[],\"fBinStatErrOpt\":0,\"fStatOverflows\":2,\"fArray\":[0,0.4591365,0.02943625,0.00753105,0.0027113,7.384e-4,2.8105e-4,1.0375e-4,4.055e-5,1.025e-5,7.1e-6,2e-6,1.3e-6,3e-7,1.5e-7,1e-7,0,0,0,0,0,0]},{\"_typename\":\"TH1F\",\"fUniqueID\":0,\"fBits\":8,\"fName\":\"h_mu1\",\"fTitle\":\"f(q0|1)\",\"fLineColor\":4,\"fLineStyle\":3,\"fLineWidth\":3,\"fFillColor\":0,\"fFillStyle\":1001,\"fMarkerColor\":1,\"fMarkerStyle\":1,\"fMarkerSize\":1,\"fNcells\":22,\"fXaxis\":{\"_typename\":\"TAxis\",\"fUniqueID\":0,\"fBits\":0,\"fName\":\"xaxis\",\"fTitle\":\"q_{0}\",\"fNdivisions\":510,\"fAxisColor\":1,\"fLabelColor\":1,\"fLabelFont\":42,\"fLabelOffset\":0.005,\"fLabelSize\":0.035,\"fTickLength\":0.03,\"fTitleOffset\":1,\"fTitleSize\":0.035,\"fTitleColor\":1,\"fTitleFont\":42,\"fNbins\":20,\"fXmin\":0,\"fXmax\":40,\"fXbins\":[],\"fFirst\":0,\"fLast\":0,\"fBits2\":0,\"fTimeDisplay\":false,\"fTimeFormat\":\"\",\"fLabels\":null,\"fModLabs\":null},\"fYaxis\":{\"_typename\":\"TAxis\",\"fUniqueID\":0,\"fBits\":0,\"fName\":\"yaxis\",\"fTitle\":\"f(q_{0}|1)\",\"fNdivisions\":510,\"fAxisColor\":1,\"fLabelColor\":1,\"fLabelFont\":42,\"fLabelOffset\":0.005,\"fLabelSize\":0.035,\"fTickLength\":0.03,\"fTitleOffset\":0,\"fTitleSize\":0.035,\"fTitleColor\":1,\"fTitleFont\":42,\"fNbins\":1,\"fXmin\":0,\"fXmax\":1,\"fXbins\":[],\"fFirst\":0,\"fLast\":0,\"fBits2\":0,\"fTimeDisplay\":false,\"fTimeFormat\":\"\",\"fLabels\":null,\"fModLabs\":null},\"fZaxis\":{\"_typename\":\"TAxis\",\"fUniqueID\":0,\"fBits\":0,\"fName\":\"zaxis\",\"fTitle\":\"\",\"fNdivisions\":510,\"fAxisColor\":1,\"fLabelColor\":1,\"fLabelFont\":42,\"fLabelOffset\":0.005,\"fLabelSize\":0.035,\"fTickLength\":0.03,\"fTitleOffset\":1,\"fTitleSize\":0.035,\"fTitleColor\":1,\"fTitleFont\":42,\"fNbins\":1,\"fXmin\":0,\"fXmax\":1,\"fXbins\":[],\"fFirst\":0,\"fLast\":0,\"fBits2\":0,\"fTimeDisplay\":false,\"fTimeFormat\":\"\",\"fLabels\":null,\"fModLabs\":null},\"fBarOffset\":0,\"fBarWidth\":1000,\"fEntries\":10000000,\"fTsumw\":0.499999998560952,\"fTsumw2\":2.50000598562389e-8,\"fTsumwx\":2.20683803225611,\"fTsumwx2\":17.4428782547729,\"fMaximum\":-1111,\"fMinimum\":-1111,\"fNormFactor\":0,\"fContour\":[],\"fSumw2\":[0,8.22243942033214e-9,5.92120588767072e-9,3.93468886383517e-9,2.88413132721222e-9,1.73361831137892e-9,1.05576006156509e-9,5.54592658849242e-10,3.32334093288764e-10,1.63388283322329e-10,1.03982998519251e-10,4.56377187980891e-11,2.40426152660215e-11,1.31775631763751e-11,4.76002282068265e-12,3.50501680388502e-12,1.73000829407163e-12,4.82502313230962e-13,3.50001677991371e-13,1.50000719139159e-13,8.25003955265375e-14,6.00002876556636e-14],\"fOption\":\"\",\"fFunctions\":{\"_typename\":\"TList\",\"name\":\"TList\",\"arr\":[],\"opt\":[]},\"fBufferSize\":0,\"fBuffer\":[],\"fBinStatErrOpt\":0,\"fStatOverflows\":2,\"fArray\":[0,0.1644484,0.1184238,0.07869359,0.05768249,0.03467228,0.02111515,0.01109183,0.006646666,0.003267758,0.002079655,9.127522e-4,4.808512e-4,2.635506e-4,9.520023e-5,7.010017e-5,3.460008e-5,9.650023e-6,7.000017e-6,3.000007e-6,1.650004e-6,1.200003e-6]},{\"_typename\":\"TF1\",\"fUniqueID\":0,\"fBits\":8,\"fName\":\"fq0\",\"fTitle\":\"fq0\",\"fLineColor\":1,\"fLineStyle\":1,\"fLineWidth\":2,\"fFillColor\":19,\"fFillStyle\":0,\"fMarkerColor\":1,\"fMarkerStyle\":1,\"fMarkerSize\":1,\"fXmin\":0,\"fXmax\":40,\"fNpar\":0,\"fNdim\":1,\"fNpx\":100,\"fType\":1,\"fNpfits\":0,\"fNDF\":0,\"fChisquare\":0,\"fMinimum\":-1111,\"fMaximum\":-1111,\"fParErrors\":[],\"fParMin\":[],\"fParMax\":[],\"fSave\":[1,0.258220773733639,0.149491769959102,0.0999338819508666,0.0708572826531119,0.0518884371775743,0.0387811846201298,0.0293960366262722,0.022513027920096,0.0173779583635692,0.013497741628297,0.0105367304895151,0.00825947979107276,0.006496998184254,0.00512579823643537,0.00405434777747012,0.00321401382896985,0.00255284458030477,0.00203120467338664,0.00161865481237607,0.00129168658463075,0.00103205680824448,8.25549300412496e-4,6.61045783979366e-4,5.29823162368818e-4,4.25018330126017e-4,3.41218126904986e-4,2.74143523360753e-4,2.20405262723421e-4,1.77314021804258e-4,1.42732395837928e-4,1.14959122412895e-4,9.26382625449579e-5,7.46877753940582e-5,6.02432147534376e-5,4.86132525229572e-5,3.92444777832065e-5,3.16934886307536e-5,2.56047307740333e-5,2.06928739436402e-5,1.67287782206107e-5,1.35283052653115e-5,1.09433875921523e-5,8.85489268739366e-6,7.16691568909634e-6,5.80221049778116e-6,4.69852914512647e-6,3.80568655229977e-6,3.08320519829445e-6,2.49842382009572e-6,2.02497773902228e-6,1.64157704694854e-6,1.33102370722851e-6,1.07942042477087e-6,8.75533544646641e-7,7.10279742887211e-7,5.7631226685394e-7,4.67687274275836e-7,3.79594654172555e-7,3.08140783296691e-7,2.50173132458426e-7,2.03138610632959e-7,1.64969118635033e-7,1.33989056127195e-7,1.0884054785013e-7,8.84229767777522e-8,7.18440730204425e-8,5.8380339422156e-8,4.74450233004869e-8,3.85621890006546e-8,3.13457241834436e-8,2.54823371300845e-8,2.07177833317696e-8,1.68457056802343e-8,1.36985904751675e-8,1.11404366726248e-8,9.06081270867159e-9,7.37003738066687e-9,5.99527150347888e-9,4.87734767498191e-9,3.9681983349583e-9,3.22876887647304e-9,2.6273240730034e-9,2.13807348991969e-9,1.74005563994873e-9,1.4162320527049e-9,1.15275167020621e-9,9.38353467243842e-10,7.63881262003134e-10,6.21889598887275e-10,5.06323570818607e-10,4.122586793567e-10,3.35689450991479e-10,2.73357652863849e-10,2.22612674787363e-10,1.81298042793654e-10,1.47659164060134e-10,1.20268323872047e-10,9.79637026329177e-11,7.97997876188029e-11,6.50070467206798e-11,0,40],\"fNormalized\":false,\"fNormIntegral\":0,\"fFormula\":null,\"fParams\":{\"_typename\":\"TF1Parameters\",\"fParameters\":[],\"fParNames\":[]},\"fComposition_ptr\":null},{\"_typename\":\"TF1\",\"fUniqueID\":0,\"fBits\":8,\"fName\":\"fq0_mu\",\"fTitle\":\"fq0_mu\",\"fLineColor\":1,\"fLineStyle\":1,\"fLineWidth\":2,\"fFillColor\":19,\"fFillStyle\":0,\"fMarkerColor\":1,\"fMarkerStyle\":1,\"fMarkerSize\":1,\"fXmin\":0,\"fXmax\":40,\"fNpar\":0,\"fNdim\":1,\"fNpx\":100,\"fType\":1,\"fNpfits\":0,\"fNDF\":0,\"fChisquare\":0,\"fMinimum\":-1111,\"fMaximum\":-1111,\"fParErrors\":[],\"fParMin\":[],\"fParMax\":[],\"fSave\":[0.229183601922662,0.151512569696649,0.142167139896074,0.13766449187385,0.133401774547003,0.128639266264835,0.123305844960804,0.117495830817635,0.11134223547014,0.104977322888121,0.0985195038560065,0.0920695368722241,0.0857103350364122,0.0795082111773305,0.0735146578123199,0.067768261234255,0.0622965662865069,0.0571178087940774,0.0522424815310438,0.0476747243448461,0.0434135418100897,0.0394538582985405,0.0357874234852073,0.0324035825520253,0.0292899255120945,0.0264328296193255,0.0238179080220264,0.0214303768292506,0.0192553516881502,0.0172780838837684,0.0154841449104625,0.0138595674517872,0.0123909497582435,0.0110655295378806,0.00987123267667163,0.00879670138397088,0.00783130571109462,0.00696514181464127,0.00618901982613609,0.00549444374102639,0.00487358534779906,0.00431925387685786,0.00382486275371537,0.00338439458717052,0.00299236530588519,0.00264378817188636,0.00233413824308809,0.00205931772537619,0.00181562254489315,0.00159971037999545,0.00140857031733182,0.00123949423530536,0.00109004996879615,9.58056269646897e-4,8.41559546485543e-4,7.38812343615553e-4,6.48253500765902e-4,5.68489922442255e-4,4.98279876585027e-4,4.36517736473188e-4,3.82220076680786e-4,3.34513032859753e-4,2.92620835736403e-4,2.55855431592422e-4,2.23607104340256e-4,1.95336017838146e-4,1.70564601109224e-4,1.48870703459243e-4,1.29881450989748e-4,1.13267740567262e-4,9.87393118478121e-5,8.60403424031109e-5,7.49455152999102e-5,6.52565126108917e-5,5.6798892258649e-5,4.94193092975355e-5,4.2983046212341e-5,3.73718200546322e-5,3.24818372483631e-5,2.82220696806791e-5,2.45127282589737e-5,2.12839124703457e-5,1.84744166350892e-5,1.60306755130012e-5,1.39058337118547e-5,1.20589249732489e-5,1.04541488840349e-5,9.06023389321802e-6,7.84987671583765e-6,6.79924928755916e-6,5.88756540675732e-6,5.09670007432619e-6,4.41085532431302e-6,3.8162670391251e-6,3.30094786927151e-6,2.85446193655927e-6,2.46772749796842e-6,2.13284419114311e-6,1.84294187708952e-6,1.59204844631519e-6,1.37497426586254e-6,0,40],\"fNormalized\":false,\"fNormIntegral\":0,\"fFormula\":null,\"fParams\":{\"_typename\":\"TF1Parameters\",\"fParameters\":[],\"fParNames\":[]},\"fComposition_ptr\":null},{\"_typename\":\"TPaveText\",\"fUniqueID\":0,\"fBits\":9,\"fLineColor\":1,\"fLineStyle\":1,\"fLineWidth\":1,\"fFillColor\":0,\"fFillStyle\":0,\"fX1\":16.9497125982253,\"fY1\":1.38230944843016,\"fX2\":23.0502874017747,\"fY2\":2.06875013662503,\"fX1NDC\":0.438994252873563,\"fY1NDC\":0.933983055615829,\"fX2NDC\":0.561005747126437,\"fY2NDC\":0.995000004768372,\"fBorderSize\":0,\"fInit\":1,\"fShadowColor\":1,\"fCornerRadius\":0,\"fOption\":\"blNDC\",\"fName\":\"title\",\"fTextAngle\":0,\"fTextSize\":0,\"fTextAlign\":22,\"fTextColor\":1,\"fTextFont\":42,\"fLabel\":\"\",\"fLongest\":7,\"fMargin\":0.05,\"fLines\":{\"_typename\":\"TList\",\"name\":\"TList\",\"arr\":[{\"_typename\":\"TLatex\",\"fUniqueID\":0,\"fBits\":0,\"fName\":\"\",\"fTitle\":\"f(q0|0)\",\"fTextAngle\":0,\"fTextSize\":0,\"fTextAlign\":0,\"fTextColor\":0,\"fTextFont\":0,\"fX\":0,\"fY\":0,\"fLineColor\":1,\"fLineStyle\":1,\"fLineWidth\":2,\"fLimitFactorSize\":3,\"fOriginSize\":0.0518644079566002}],\"opt\":[\"\"]}}],\"opt\":[\"\",\"hist\",\"hist same\",\"same\",\"same\",\"blNDC\"]},\"fExecs\":null,\"fName\":\"c1_n2\",\"fTitle\":\"c1_n2\",\"fNumPaletteColor\":0,\"fNextPaletteColor\":0,\"fDISPLAY\":\"$DISPLAY\",\"fDoubleBuffer\":0,\"fRetained\":true,\"fXsizeUser\":0,\"fYsizeUser\":0,\"fXsizeReal\":20,\"fYsizeReal\":14.28571,\"fWindowTopX\":0,\"fWindowTopY\":0,\"fWindowWidth\":0,\"fWindowHeight\":0,\"fCw\":696,\"fCh\":472,\"fCatt\":{\"_typename\":\"TAttCanvas\",\"fXBetween\":2,\"fYBetween\":2,\"fTitleFromTop\":1.2,\"fXdate\":0.2,\"fYdate\":0.3,\"fAdate\":1},\"kMoveOpaque\":true,\"kResizeOpaque\":true,\"fHighLightColor\":2,\"fBatch\":true,\"kShowEventStatus\":false,\"kAutoExec\":true,\"kMenuBar\":true});\n",
       "            Core.draw(\"root_plot_1600305018748\", obj, \"\");\n",
       "        }\n",
       "    );\n",
       "}\n",
       "</script>\n"
      ],
      "text/plain": [
       "<IPython.core.display.HTML object>"
      ]
     },
     "metadata": {},
     "output_type": "display_data"
    }
   ],
   "source": [
    "c = ROOT.TCanvas()\n",
    "c.SetLogy()\n",
    "print(h_mu1.Integral())\n",
    "h_mu0.Scale(0.5/h_mu0.Integral())\n",
    "h_mu1.Scale(0.5/h_mu1.Integral())\n",
    "h_mu0.SetMaximum(10)\n",
    "h_mu0.SetMinimum(10e-9)\n",
    "h_mu0.SetLineColor(2) # red\n",
    "h_mu0.SetLineWidth(2)\n",
    "h_mu1.SetLineColor(4) # blue\n",
    "h_mu1.SetLineWidth(3)\n",
    "h_mu1.SetLineStyle(3)\n",
    "h_mu1.Draw(\"hist\")\n",
    "h_mu0.Draw(\"hist same\")\n",
    "fq0.SetLineColor(1)\n",
    "fq0.Draw(\"same\")\n",
    "fq0_mu.SetLineColor(1)\n",
    "fq0_mu.Draw(\"same\")\n",
    "c.Draw()"
   ]
  },
  {
   "cell_type": "code",
   "execution_count": null,
   "metadata": {},
   "outputs": [],
   "source": []
  }
 ],
 "metadata": {
  "kernelspec": {
   "display_name": "Python 3",
   "language": "python",
   "name": "python3"
  },
  "language_info": {
   "codemirror_mode": {
    "name": "ipython",
    "version": 3
   },
   "file_extension": ".py",
   "mimetype": "text/x-python",
   "name": "python",
   "nbconvert_exporter": "python",
   "pygments_lexer": "ipython3",
   "version": "3.7.6"
  }
 },
 "nbformat": 4,
 "nbformat_minor": 4
}
